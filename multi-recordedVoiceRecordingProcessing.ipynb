{
 "cells": [
  {
   "cell_type": "code",
   "execution_count": 105,
   "metadata": {},
   "outputs": [],
   "source": [
    "# We'll need numpy for some mathematical operations\n",
    "import numpy as np\n",
    "\n",
    "# matplotlib for displaying the output\n",
    "import matplotlib.pyplot as plt\n",
    "%matplotlib inline\n",
    "\n",
    "# and IPython.display for audio output\n",
    "import IPython.display as ipd\n",
    "\n",
    "\n",
    "# And the display module for visualization\n",
    "import librosa.display\n",
    "\n",
    "#audio lib \n",
    "import librosa\n",
    "\n",
    "import os"
   ]
  },
  {
   "cell_type": "code",
   "execution_count": 107,
   "metadata": {},
   "outputs": [],
   "source": [
    "audio_path = (r\"D:\\emale\\arctic_a0001.wav\")\n",
    "x, sr = librosa.load(audio_path)"
   ]
  },
  {
   "cell_type": "code",
   "execution_count": 108,
   "metadata": {},
   "outputs": [
    {
     "name": "stdout",
     "output_type": "stream",
     "text": [
      "D:\\emale\\arctic_a0100.wav\n"
     ]
    }
   ],
   "source": [
    "#female (f'de hata eriyor o yüzden dosya adı email yapıldı) \n",
    "#dosyası içindeki tüm wav dosyaları yollarıyla birlikte audio_paths  listesine  alındı  \n",
    "audio_paths = []\n",
    "\n",
    "for i in os.listdir(r\"D:\\emale\"):\n",
    "    audio_paths.append(\"D:\\emale\\{}\".format(i))\n",
    "    \n",
    "print(audio_paths[99])"
   ]
  },
  {
   "cell_type": "code",
   "execution_count": 115,
   "metadata": {},
   "outputs": [],
   "source": [
    "x, sr = librosa.load(audio_paths[0])"
   ]
  },
  {
   "cell_type": "code",
   "execution_count": 116,
   "metadata": {},
   "outputs": [
    {
     "name": "stdout",
     "output_type": "stream",
     "text": [
      "(81255,)\n"
     ]
    }
   ],
   "source": [
    "print(x.shape )"
   ]
  },
  {
   "cell_type": "code",
   "execution_count": 117,
   "metadata": {},
   "outputs": [
    {
     "name": "stdout",
     "output_type": "stream",
     "text": [
      "22050\n"
     ]
    }
   ],
   "source": [
    "print(sr)"
   ]
  },
  {
   "cell_type": "code",
   "execution_count": null,
   "metadata": {},
   "outputs": [],
   "source": []
  }
 ],
 "metadata": {
  "kernelspec": {
   "display_name": "Python 3",
   "language": "python",
   "name": "python3"
  },
  "language_info": {
   "codemirror_mode": {
    "name": "ipython",
    "version": 3
   },
   "file_extension": ".py",
   "mimetype": "text/x-python",
   "name": "python",
   "nbconvert_exporter": "python",
   "pygments_lexer": "ipython3",
   "version": "3.7.1"
  }
 },
 "nbformat": 4,
 "nbformat_minor": 2
}
